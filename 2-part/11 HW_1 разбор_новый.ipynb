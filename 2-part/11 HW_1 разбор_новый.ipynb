{
 "cells": [
  {
   "cell_type": "code",
   "execution_count": 1,
   "metadata": {
    "ExecuteTime": {
     "end_time": "2022-10-18T17:14:07.022291Z",
     "start_time": "2022-10-18T17:14:06.331175Z"
    }
   },
   "outputs": [],
   "source": [
    "import pandas as pd\n",
    "import numpy as np\n",
    "import xgboost as xgb"
   ]
  },
  {
   "cell_type": "code",
   "execution_count": 2,
   "metadata": {
    "ExecuteTime": {
     "end_time": "2022-10-18T17:14:07.272935Z",
     "start_time": "2022-10-18T17:14:07.023877Z"
    }
   },
   "outputs": [],
   "source": [
    "#import visualization libraries\n",
    "import matplotlib.pyplot as plt\n",
    "import seaborn as sns\n",
    "color = sns.color_palette()\n",
    "\n",
    "%matplotlib inline"
   ]
  },
  {
   "cell_type": "code",
   "execution_count": 3,
   "metadata": {
    "ExecuteTime": {
     "end_time": "2022-10-18T17:14:07.277042Z",
     "start_time": "2022-10-18T17:14:07.275012Z"
    }
   },
   "outputs": [],
   "source": [
    "file_1 = open('file_1.txt','w')"
   ]
  },
  {
   "cell_type": "code",
   "execution_count": 4,
   "metadata": {
    "ExecuteTime": {
     "end_time": "2022-10-18T17:14:07.306238Z",
     "start_time": "2022-10-18T17:14:07.278844Z"
    }
   },
   "outputs": [],
   "source": [
    "# 1. Найти \"id\" топ 10 самых дорогих квартир\n",
    "train_df = pd.read_csv('./data/HW_train_main_data.csv')"
   ]
  },
  {
   "cell_type": "code",
   "execution_count": 5,
   "metadata": {
    "ExecuteTime": {
     "end_time": "2022-10-18T17:14:07.312799Z",
     "start_time": "2022-10-18T17:14:07.307783Z"
    }
   },
   "outputs": [],
   "source": [
    "test_df = pd.read_csv('./data/HW_test_main_data.csv')"
   ]
  },
  {
   "cell_type": "code",
   "execution_count": 6,
   "metadata": {
    "ExecuteTime": {
     "end_time": "2022-10-18T17:14:07.332912Z",
     "start_time": "2022-10-18T17:14:07.314157Z"
    }
   },
   "outputs": [
    {
     "data": {
      "text/html": [
       "<div>\n",
       "<style scoped>\n",
       "    .dataframe tbody tr th:only-of-type {\n",
       "        vertical-align: middle;\n",
       "    }\n",
       "\n",
       "    .dataframe tbody tr th {\n",
       "        vertical-align: top;\n",
       "    }\n",
       "\n",
       "    .dataframe thead th {\n",
       "        text-align: right;\n",
       "    }\n",
       "</style>\n",
       "<table border=\"1\" class=\"dataframe\">\n",
       "  <thead>\n",
       "    <tr style=\"text-align: right;\">\n",
       "      <th></th>\n",
       "      <th>id</th>\n",
       "      <th>timestamp</th>\n",
       "      <th>full_sq</th>\n",
       "      <th>life_sq</th>\n",
       "      <th>floor</th>\n",
       "      <th>max_floor</th>\n",
       "      <th>material</th>\n",
       "      <th>build_year</th>\n",
       "      <th>num_room</th>\n",
       "      <th>kitch_sq</th>\n",
       "      <th>apartment condition</th>\n",
       "      <th>sub_area</th>\n",
       "    </tr>\n",
       "  </thead>\n",
       "  <tbody>\n",
       "    <tr>\n",
       "      <th>0</th>\n",
       "      <td>30307</td>\n",
       "      <td>2014-04-20</td>\n",
       "      <td>74</td>\n",
       "      <td>43.0</td>\n",
       "      <td>13.0</td>\n",
       "      <td>14.0</td>\n",
       "      <td>1.0</td>\n",
       "      <td>1996.0</td>\n",
       "      <td>3.0</td>\n",
       "      <td>10.0</td>\n",
       "      <td>2.0</td>\n",
       "      <td>60</td>\n",
       "    </tr>\n",
       "    <tr>\n",
       "      <th>1</th>\n",
       "      <td>87380</td>\n",
       "      <td>2015-01-17</td>\n",
       "      <td>29</td>\n",
       "      <td>NaN</td>\n",
       "      <td>6.0</td>\n",
       "      <td>17.0</td>\n",
       "      <td>1.0</td>\n",
       "      <td>NaN</td>\n",
       "      <td>1.0</td>\n",
       "      <td>1.0</td>\n",
       "      <td>1.0</td>\n",
       "      <td>87</td>\n",
       "    </tr>\n",
       "    <tr>\n",
       "      <th>2</th>\n",
       "      <td>12874</td>\n",
       "      <td>2014-07-08</td>\n",
       "      <td>80</td>\n",
       "      <td>NaN</td>\n",
       "      <td>8.0</td>\n",
       "      <td>17.0</td>\n",
       "      <td>1.0</td>\n",
       "      <td>NaN</td>\n",
       "      <td>3.0</td>\n",
       "      <td>1.0</td>\n",
       "      <td>NaN</td>\n",
       "      <td>103</td>\n",
       "    </tr>\n",
       "    <tr>\n",
       "      <th>3</th>\n",
       "      <td>57688</td>\n",
       "      <td>2013-01-15</td>\n",
       "      <td>53</td>\n",
       "      <td>NaN</td>\n",
       "      <td>4.0</td>\n",
       "      <td>NaN</td>\n",
       "      <td>NaN</td>\n",
       "      <td>NaN</td>\n",
       "      <td>NaN</td>\n",
       "      <td>NaN</td>\n",
       "      <td>NaN</td>\n",
       "      <td>80</td>\n",
       "    </tr>\n",
       "    <tr>\n",
       "      <th>4</th>\n",
       "      <td>43433</td>\n",
       "      <td>2012-06-15</td>\n",
       "      <td>36</td>\n",
       "      <td>19.0</td>\n",
       "      <td>16.0</td>\n",
       "      <td>NaN</td>\n",
       "      <td>NaN</td>\n",
       "      <td>NaN</td>\n",
       "      <td>NaN</td>\n",
       "      <td>NaN</td>\n",
       "      <td>NaN</td>\n",
       "      <td>117</td>\n",
       "    </tr>\n",
       "    <tr>\n",
       "      <th>...</th>\n",
       "      <td>...</td>\n",
       "      <td>...</td>\n",
       "      <td>...</td>\n",
       "      <td>...</td>\n",
       "      <td>...</td>\n",
       "      <td>...</td>\n",
       "      <td>...</td>\n",
       "      <td>...</td>\n",
       "      <td>...</td>\n",
       "      <td>...</td>\n",
       "      <td>...</td>\n",
       "      <td>...</td>\n",
       "    </tr>\n",
       "    <tr>\n",
       "      <th>995</th>\n",
       "      <td>28684</td>\n",
       "      <td>2015-04-05</td>\n",
       "      <td>54</td>\n",
       "      <td>NaN</td>\n",
       "      <td>2.0</td>\n",
       "      <td>17.0</td>\n",
       "      <td>1.0</td>\n",
       "      <td>NaN</td>\n",
       "      <td>2.0</td>\n",
       "      <td>1.0</td>\n",
       "      <td>1.0</td>\n",
       "      <td>96</td>\n",
       "    </tr>\n",
       "    <tr>\n",
       "      <th>996</th>\n",
       "      <td>65212</td>\n",
       "      <td>2014-05-22</td>\n",
       "      <td>78</td>\n",
       "      <td>45.0</td>\n",
       "      <td>5.0</td>\n",
       "      <td>10.0</td>\n",
       "      <td>1.0</td>\n",
       "      <td>1995.0</td>\n",
       "      <td>3.0</td>\n",
       "      <td>10.0</td>\n",
       "      <td>2.0</td>\n",
       "      <td>60</td>\n",
       "    </tr>\n",
       "    <tr>\n",
       "      <th>997</th>\n",
       "      <td>11218</td>\n",
       "      <td>2014-12-18</td>\n",
       "      <td>2</td>\n",
       "      <td>1.0</td>\n",
       "      <td>26.0</td>\n",
       "      <td>1.0</td>\n",
       "      <td>1.0</td>\n",
       "      <td>1.0</td>\n",
       "      <td>1.0</td>\n",
       "      <td>1.0</td>\n",
       "      <td>1.0</td>\n",
       "      <td>54</td>\n",
       "    </tr>\n",
       "    <tr>\n",
       "      <th>998</th>\n",
       "      <td>57238</td>\n",
       "      <td>2013-06-09</td>\n",
       "      <td>55</td>\n",
       "      <td>33.0</td>\n",
       "      <td>6.0</td>\n",
       "      <td>NaN</td>\n",
       "      <td>NaN</td>\n",
       "      <td>NaN</td>\n",
       "      <td>NaN</td>\n",
       "      <td>NaN</td>\n",
       "      <td>NaN</td>\n",
       "      <td>9</td>\n",
       "    </tr>\n",
       "    <tr>\n",
       "      <th>999</th>\n",
       "      <td>26048</td>\n",
       "      <td>2014-06-12</td>\n",
       "      <td>41</td>\n",
       "      <td>NaN</td>\n",
       "      <td>8.0</td>\n",
       "      <td>17.0</td>\n",
       "      <td>1.0</td>\n",
       "      <td>NaN</td>\n",
       "      <td>1.0</td>\n",
       "      <td>1.0</td>\n",
       "      <td>1.0</td>\n",
       "      <td>72</td>\n",
       "    </tr>\n",
       "  </tbody>\n",
       "</table>\n",
       "<p>1000 rows × 12 columns</p>\n",
       "</div>"
      ],
      "text/plain": [
       "        id   timestamp  full_sq  life_sq  floor  max_floor  material  \\\n",
       "0    30307  2014-04-20       74     43.0   13.0       14.0       1.0   \n",
       "1    87380  2015-01-17       29      NaN    6.0       17.0       1.0   \n",
       "2    12874  2014-07-08       80      NaN    8.0       17.0       1.0   \n",
       "3    57688  2013-01-15       53      NaN    4.0        NaN       NaN   \n",
       "4    43433  2012-06-15       36     19.0   16.0        NaN       NaN   \n",
       "..     ...         ...      ...      ...    ...        ...       ...   \n",
       "995  28684  2015-04-05       54      NaN    2.0       17.0       1.0   \n",
       "996  65212  2014-05-22       78     45.0    5.0       10.0       1.0   \n",
       "997  11218  2014-12-18        2      1.0   26.0        1.0       1.0   \n",
       "998  57238  2013-06-09       55     33.0    6.0        NaN       NaN   \n",
       "999  26048  2014-06-12       41      NaN    8.0       17.0       1.0   \n",
       "\n",
       "     build_year  num_room  kitch_sq  apartment condition  sub_area  \n",
       "0        1996.0       3.0      10.0                  2.0        60  \n",
       "1           NaN       1.0       1.0                  1.0        87  \n",
       "2           NaN       3.0       1.0                  NaN       103  \n",
       "3           NaN       NaN       NaN                  NaN        80  \n",
       "4           NaN       NaN       NaN                  NaN       117  \n",
       "..          ...       ...       ...                  ...       ...  \n",
       "995         NaN       2.0       1.0                  1.0        96  \n",
       "996      1995.0       3.0      10.0                  2.0        60  \n",
       "997         1.0       1.0       1.0                  1.0        54  \n",
       "998         NaN       NaN       NaN                  NaN         9  \n",
       "999         NaN       1.0       1.0                  1.0        72  \n",
       "\n",
       "[1000 rows x 12 columns]"
      ]
     },
     "execution_count": 6,
     "metadata": {},
     "output_type": "execute_result"
    }
   ],
   "source": [
    "test_df"
   ]
  },
  {
   "cell_type": "code",
   "execution_count": 7,
   "metadata": {
    "ExecuteTime": {
     "end_time": "2022-10-18T17:14:07.341444Z",
     "start_time": "2022-10-18T17:14:07.334584Z"
    }
   },
   "outputs": [],
   "source": [
    "list_a = train_df.sort_values('price',ascending=False).head(10).id.values.tolist()"
   ]
  },
  {
   "cell_type": "code",
   "execution_count": 8,
   "metadata": {
    "ExecuteTime": {
     "end_time": "2022-10-18T17:14:07.346372Z",
     "start_time": "2022-10-18T17:14:07.343096Z"
    }
   },
   "outputs": [
    {
     "data": {
      "text/plain": [
       "'85073,14154,88100,78059,91175,45584,95572,63901,92747,40136'"
      ]
     },
     "execution_count": 8,
     "metadata": {},
     "output_type": "execute_result"
    }
   ],
   "source": [
    "','.join(str(i) for i in list_a)"
   ]
  },
  {
   "cell_type": "code",
   "execution_count": 9,
   "metadata": {
    "ExecuteTime": {
     "end_time": "2022-10-18T17:14:07.353234Z",
     "start_time": "2022-10-18T17:14:07.350154Z"
    }
   },
   "outputs": [
    {
     "data": {
      "text/plain": [
       "71"
      ]
     },
     "execution_count": 9,
     "metadata": {},
     "output_type": "execute_result"
    }
   ],
   "source": [
    "file_1.write(str(list_a) + '\\n')"
   ]
  },
  {
   "cell_type": "code",
   "execution_count": null,
   "metadata": {},
   "outputs": [],
   "source": []
  },
  {
   "cell_type": "code",
   "execution_count": 10,
   "metadata": {
    "ExecuteTime": {
     "end_time": "2022-10-18T17:14:07.410909Z",
     "start_time": "2022-10-18T17:14:07.355982Z"
    }
   },
   "outputs": [],
   "source": [
    "# 2. Построить зависимость средней стоимости квартиры от года и месяца продаж\n",
    "train_df['timestamp'] = pd.to_datetime(train_df['timestamp'])\n",
    "train_df['year'] = train_df['timestamp'].dt.year\n",
    "train_df['month'] = train_df['timestamp'].dt.month\n",
    "train_df['month_year'] = train_df['month'].astype(str) + '_' + train_df['year'].astype(str)"
   ]
  },
  {
   "cell_type": "code",
   "execution_count": 11,
   "metadata": {
    "ExecuteTime": {
     "end_time": "2022-10-18T17:14:07.422695Z",
     "start_time": "2022-10-18T17:14:07.413003Z"
    }
   },
   "outputs": [],
   "source": [
    "aggr_1 = train_df.sort_values(['year','month']).groupby(['year','month']).price.mean().reset_index()"
   ]
  },
  {
   "cell_type": "code",
   "execution_count": 12,
   "metadata": {
    "ExecuteTime": {
     "end_time": "2022-10-18T17:14:07.427818Z",
     "start_time": "2022-10-18T17:14:07.424495Z"
    }
   },
   "outputs": [],
   "source": [
    "aggr_1['year_month'] = aggr_1['year'].astype(str) +'_'+ aggr_1['month'].astype(str)"
   ]
  },
  {
   "cell_type": "code",
   "execution_count": 13,
   "metadata": {
    "ExecuteTime": {
     "end_time": "2022-10-18T17:14:07.754963Z",
     "start_time": "2022-10-18T17:14:07.429786Z"
    }
   },
   "outputs": [
    {
     "data": {
      "image/png": "[encoded data removed]",
      "text/plain": [
       "<Figure size 864x576 with 1 Axes>"
      ]
     },
     "metadata": {
      "needs_background": "light"
     },
     "output_type": "display_data"
    }
   ],
   "source": [
    "plt.figure(figsize=(12,8))\n",
    "plt.scatter(x='year_month', y='price', data=aggr_1)\n",
    "plt.ylabel('mean_price', fontsize=12)\n",
    "plt.xlabel('year_month', fontsize=12)\n",
    "plt.xticks(rotation='vertical')\n",
    "plt.show()"
   ]
  },
  {
   "cell_type": "code",
   "execution_count": null,
   "metadata": {},
   "outputs": [],
   "source": []
  },
  {
   "cell_type": "code",
   "execution_count": 14,
   "metadata": {
    "ExecuteTime": {
     "end_time": "2022-10-18T17:14:07.759047Z",
     "start_time": "2022-10-18T17:14:07.756628Z"
    }
   },
   "outputs": [],
   "source": [
    "# 3 Для каждой пары месяц-год  найдите индексы самых дорогих квартир, сохраните отдельный список"
   ]
  },
  {
   "cell_type": "code",
   "execution_count": 15,
   "metadata": {
    "ExecuteTime": {
     "end_time": "2022-10-18T17:14:07.777308Z",
     "start_time": "2022-10-18T17:14:07.760418Z"
    }
   },
   "outputs": [
    {
     "data": {
      "text/plain": [
       "[93255,\n",
       " 39837,\n",
       " 33763,\n",
       " 42921,\n",
       " 86122,\n",
       " 59279,\n",
       " 84792,\n",
       " 80442,\n",
       " 85073,\n",
       " 53400,\n",
       " 80358,\n",
       " 38059,\n",
       " 35501,\n",
       " 45584,\n",
       " 38931,\n",
       " 18753,\n",
       " 20881,\n",
       " 63901,\n",
       " 78059,\n",
       " 38846,\n",
       " 14154,\n",
       " 84443,\n",
       " 42092,\n",
       " 59134,\n",
       " 60348,\n",
       " 85298,\n",
       " 18085,\n",
       " 20432,\n",
       " 55606,\n",
       " 98631,\n",
       " 68847,\n",
       " 43686,\n",
       " 58882,\n",
       " 91175,\n",
       " 49814,\n",
       " 73610,\n",
       " 34194,\n",
       " 75296,\n",
       " 56862,\n",
       " 95044,\n",
       " 53674,\n",
       " 95572,\n",
       " 88100,\n",
       " 67613,\n",
       " 40136,\n",
       " 72354,\n",
       " 45373]"
      ]
     },
     "execution_count": 15,
     "metadata": {},
     "output_type": "execute_result"
    }
   ],
   "source": [
    "train_df.groupby(['year', 'month'])['price'].max().reset_index()\\\n",
    ".merge(train_df, how='left', on=['year', 'month','price'])\\\n",
    "[['year','month', 'price','id']].id.values.tolist()"
   ]
  },
  {
   "cell_type": "code",
   "execution_count": 16,
   "metadata": {
    "ExecuteTime": {
     "end_time": "2022-10-18T17:14:07.797452Z",
     "start_time": "2022-10-18T17:14:07.779401Z"
    }
   },
   "outputs": [
    {
     "data": {
      "text/plain": [
       "330"
      ]
     },
     "execution_count": 16,
     "metadata": {},
     "output_type": "execute_result"
    }
   ],
   "source": [
    "file_1.write(str(train_df.groupby(['year', 'month'])['price'].max().reset_index()\\\n",
    ".merge(train_df, how='left', on=['year', 'month','price'])\\\n",
    "[['year','month', 'price','id']].id.values.tolist())+ '\\n')"
   ]
  },
  {
   "cell_type": "code",
   "execution_count": 17,
   "metadata": {
    "ExecuteTime": {
     "end_time": "2022-10-18T17:14:07.801185Z",
     "start_time": "2022-10-18T17:14:07.799198Z"
    }
   },
   "outputs": [],
   "source": [
    "#idmax_per_yearmonth = train_df.groupby(['year', 'month'])['price'].idxmax().values"
   ]
  },
  {
   "cell_type": "code",
   "execution_count": 18,
   "metadata": {
    "ExecuteTime": {
     "end_time": "2022-10-18T17:14:07.805247Z",
     "start_time": "2022-10-18T17:14:07.803287Z"
    }
   },
   "outputs": [],
   "source": [
    "# 4 Постройте boxplot для цены для пар месяц-год "
   ]
  },
  {
   "cell_type": "code",
   "execution_count": 19,
   "metadata": {
    "ExecuteTime": {
     "end_time": "2022-10-18T17:14:08.472788Z",
     "start_time": "2022-10-18T17:14:07.807081Z"
    }
   },
   "outputs": [
    {
     "data": {
      "image/png": "[encoded data removed]",
      "text/plain": [
       "<Figure size 864x576 with 1 Axes>"
      ]
     },
     "metadata": {
      "needs_background": "light"
     },
     "output_type": "display_data"
    }
   ],
   "source": [
    "plt.figure(figsize=(12,8))\n",
    "sns.boxplot(x='month_year', y='price', data=train_df)\n",
    "plt.ylabel('price', fontsize=12)\n",
    "plt.xlabel('month_year', fontsize=12)\n",
    "plt.xticks(rotation='vertical')\n",
    "plt.show()"
   ]
  },
  {
   "cell_type": "code",
   "execution_count": 20,
   "metadata": {
    "ExecuteTime": {
     "end_time": "2022-10-18T17:14:08.482412Z",
     "start_time": "2022-10-18T17:14:08.475084Z"
    }
   },
   "outputs": [
    {
     "data": {
      "text/plain": [
       "36"
      ]
     },
     "execution_count": 20,
     "metadata": {},
     "output_type": "execute_result"
    }
   ],
   "source": [
    "# 5 Найдите \"id\" 5 самых больших квартир\n",
    "big_sq_ind = train_df.sort_values('full_sq',ascending=False).head(5).id.values\n",
    "file_1.write(str(big_sq_ind.tolist())+ '\\n')"
   ]
  },
  {
   "cell_type": "code",
   "execution_count": 21,
   "metadata": {
    "ExecuteTime": {
     "end_time": "2022-10-18T17:14:08.489503Z",
     "start_time": "2022-10-18T17:14:08.484355Z"
    }
   },
   "outputs": [],
   "source": [
    "# 6 Посчитайте кол-во пропусков в life_sq, сохраните это число, и отдельно \"id\" всех строк с пропусками в поле life_sq\n",
    "life_sq_null_sum = train_df.life_sq.isnull().sum()\n",
    "life_sq_ids = train_df[train_df.life_sq.isnull()]['id'].values"
   ]
  },
  {
   "cell_type": "code",
   "execution_count": 22,
   "metadata": {
    "ExecuteTime": {
     "end_time": "2022-10-18T17:14:08.495645Z",
     "start_time": "2022-10-18T17:14:08.491533Z"
    }
   },
   "outputs": [
    {
     "data": {
      "text/plain": [
       "42456"
      ]
     },
     "execution_count": 22,
     "metadata": {},
     "output_type": "execute_result"
    }
   ],
   "source": [
    "file_1.write(str(life_sq_ids.tolist())+ '\\n')"
   ]
  },
  {
   "cell_type": "code",
   "execution_count": 23,
   "metadata": {
    "ExecuteTime": {
     "end_time": "2022-10-18T17:14:08.499551Z",
     "start_time": "2022-10-18T17:14:08.497589Z"
    }
   },
   "outputs": [],
   "source": [
    "# 7 Предложите вариант как можно заполнить пропуски в life_sq"
   ]
  },
  {
   "cell_type": "code",
   "execution_count": 24,
   "metadata": {
    "ExecuteTime": {
     "end_time": "2022-10-18T17:14:09.969668Z",
     "start_time": "2022-10-18T17:14:08.501415Z"
    }
   },
   "outputs": [],
   "source": [
    "# как вариант можно построить KNeighborsRegressor\n",
    "from sklearn.neighbors import KNeighborsRegressor\n",
    "from sklearn.model_selection import GridSearchCV\n",
    "clf = KNeighborsRegressor()\n",
    "params = {'n_neighbors':[2,3,4,5,6,7,8,9,10], 'weights': ['uniform', 'distance']}\n",
    "grcv = GridSearchCV(clf, params, n_jobs=-1)\n",
    "grcv.fit(train_df[~train_df.life_sq.isnull()].full_sq.values.reshape(-1,1)\n",
    "         , train_df[~train_df.life_sq.isnull()].life_sq.values.reshape(-1,1))\n",
    "no_life_sq = grcv.predict(train_df[train_df.life_sq.isnull()].full_sq.values.reshape(-1,1))"
   ]
  },
  {
   "cell_type": "code",
   "execution_count": 25,
   "metadata": {
    "ExecuteTime": {
     "end_time": "2022-10-18T17:14:09.975419Z",
     "start_time": "2022-10-18T17:14:09.971726Z"
    }
   },
   "outputs": [
    {
     "data": {
      "text/plain": [
       "{'n_neighbors': 10, 'weights': 'uniform'}"
      ]
     },
     "execution_count": 25,
     "metadata": {},
     "output_type": "execute_result"
    }
   ],
   "source": [
    "grcv.best_params_"
   ]
  },
  {
   "cell_type": "code",
   "execution_count": 26,
   "metadata": {
    "ExecuteTime": {
     "end_time": "2022-10-18T17:14:09.983992Z",
     "start_time": "2022-10-18T17:14:09.976946Z"
    }
   },
   "outputs": [],
   "source": [
    "train_df['pred_life_sq'] = np.NaN\n",
    "train_df.loc[train_df.life_sq.isnull(),'pred_life_sq'] = list(no_life_sq.reshape(1,-1)[0])"
   ]
  },
  {
   "cell_type": "code",
   "execution_count": 27,
   "metadata": {
    "ExecuteTime": {
     "end_time": "2022-10-18T17:14:09.999310Z",
     "start_time": "2022-10-18T17:14:09.992086Z"
    }
   },
   "outputs": [
    {
     "name": "stdout",
     "output_type": "stream",
     "text": [
      "0.3371130874205788\n",
      "0.4185643954042566\n"
     ]
    }
   ],
   "source": [
    "# 8 Сохраните коффициент корреляции Пирсона между price и full_sq, и price и *life_sq*\n",
    "# где *life_sq* - скорректированное значение life_sq после заполнения пропусков\n",
    "print(np.corrcoef(train_df.full_sq,train_df.price)[0][1])\n",
    "print(np.corrcoef(train_df.price, train_df.life_sq.combine_first(train_df.pred_life_sq))[0][1])"
   ]
  },
  {
   "cell_type": "code",
   "execution_count": 28,
   "metadata": {
    "ExecuteTime": {
     "end_time": "2022-10-18T17:14:10.011241Z",
     "start_time": "2022-10-18T17:14:10.004956Z"
    }
   },
   "outputs": [
    {
     "data": {
      "text/plain": [
       "41"
      ]
     },
     "execution_count": 28,
     "metadata": {},
     "output_type": "execute_result"
    }
   ],
   "source": [
    "file_1.write(str([np.corrcoef(train_df.full_sq,train_df.price)[0][1], np.corrcoef(train_df.price, train_df.life_sq.combine_first(train_df.pred_life_sq))[0][1]])+ '\\n')"
   ]
  },
  {
   "cell_type": "code",
   "execution_count": 29,
   "metadata": {
    "ExecuteTime": {
     "end_time": "2022-10-18T17:14:10.014747Z",
     "start_time": "2022-10-18T17:14:10.012649Z"
    }
   },
   "outputs": [],
   "source": [
    "file_1.close()"
   ]
  },
  {
   "cell_type": "code",
   "execution_count": 30,
   "metadata": {
    "ExecuteTime": {
     "end_time": "2022-10-18T17:14:10.018523Z",
     "start_time": "2022-10-18T17:14:10.016720Z"
    }
   },
   "outputs": [],
   "source": [
    "# 8 Добавьте дополнительные данные. Заполните пропуски в данных, сгенерируйте новые данные из существующих\n",
    "# 9 Создайте модель для предсказания цен квартир\n",
    "# 10 Посмотрите на важность признаков \n",
    "# 11 Создайте предсказание для тестовой выборки\n",
    "# 12 Подготовьте 2 итоговых файла"
   ]
  },
  {
   "cell_type": "markdown",
   "metadata": {},
   "source": [
    "### Первый итоговый файл должен выглядить следующим образом: \n",
    "\"id\" топ 10 самых дорогих квартир\n",
    "индексы самых дорогих квартир, сохраните отдельный список\n",
    "\"id\" 5 самых больших квартир\n",
    "коффициент корреляции Пирсона между price и full_sq, и price и *life_sq*\n",
    "\n",
    "### Второй итоговый файл должен выглядить следующим образом: \n",
    "id, predicted_price для тестовых данных"
   ]
  },
  {
   "cell_type": "code",
   "execution_count": 31,
   "metadata": {
    "ExecuteTime": {
     "end_time": "2022-10-18T17:14:10.055335Z",
     "start_time": "2022-10-18T17:14:10.020479Z"
    }
   },
   "outputs": [],
   "source": [
    "# Prepare data\n",
    "# train_df = pd.read_csv('./data/HW_train_main_data.csv')\n",
    "add_df = pd.read_csv('./data/HW_train_additional_data.csv')\n",
    "add_test_df = pd.read_csv('./data/HW_test_additional_data.csv')\n",
    "test_df = pd.read_csv('./data/HW_test_main_data.csv')"
   ]
  },
  {
   "cell_type": "code",
   "execution_count": 32,
   "metadata": {
    "ExecuteTime": {
     "end_time": "2022-10-18T17:14:10.061643Z",
     "start_time": "2022-10-18T17:14:10.056894Z"
    }
   },
   "outputs": [],
   "source": [
    "train_df = train_df[train_df['full_sq'] > 0]"
   ]
  },
  {
   "cell_type": "code",
   "execution_count": 33,
   "metadata": {
    "ExecuteTime": {
     "end_time": "2022-10-18T17:14:10.093032Z",
     "start_time": "2022-10-18T17:14:10.063400Z"
    }
   },
   "outputs": [],
   "source": [
    "train_df = train_df.merge(add_df, how= 'left', on='id')\n",
    "test_df['timestamp'] = pd.to_datetime(test_df['timestamp'])\n",
    "test_df['year'] = test_df['timestamp'].dt.year\n",
    "test_df['month'] = test_df['timestamp'].dt.month\n",
    "test_no_life_sq = grcv.predict(test_df[test_df.life_sq.isnull()].full_sq.values.reshape(-1,1))\n",
    "test_df['pred_life_sq'] = np.NaN\n",
    "test_df.loc[test_df.life_sq.isnull(),'pred_life_sq'] = list(test_no_life_sq.reshape(1,-1)[0])\n",
    "test_df = test_df.merge(add_test_df,how='left',on='id')"
   ]
  },
  {
   "cell_type": "code",
   "execution_count": 34,
   "metadata": {
    "ExecuteTime": {
     "end_time": "2022-10-18T17:14:10.104912Z",
     "start_time": "2022-10-18T17:14:10.094511Z"
    }
   },
   "outputs": [],
   "source": [
    "train_df = train_df.fillna(-20)\n",
    "test_df = test_df.fillna(-20)"
   ]
  },
  {
   "cell_type": "code",
   "execution_count": 35,
   "metadata": {
    "ExecuteTime": {
     "end_time": "2022-10-18T17:14:10.121542Z",
     "start_time": "2022-10-18T17:14:10.106539Z"
    }
   },
   "outputs": [
    {
     "name": "stderr",
     "output_type": "stream",
     "text": [
      "/Users/snv23/PycharmProjects/Karpov_solutions/venv/lib/python3.6/site-packages/ipykernel_launcher.py:2: FutureWarning: Series.dt.weekofyear and Series.dt.week have been deprecated.  Please use Series.dt.isocalendar().week instead.\n",
      "  \n",
      "/Users/snv23/PycharmProjects/Karpov_solutions/venv/lib/python3.6/site-packages/ipykernel_launcher.py:3: FutureWarning: Series.dt.weekofyear and Series.dt.week have been deprecated.  Please use Series.dt.isocalendar().week instead.\n",
      "  This is separate from the ipykernel package so we can avoid doing imports until\n"
     ]
    }
   ],
   "source": [
    "# get week of the year\n",
    "train_df['week_of_year'] = train_df.timestamp.dt.weekofyear\n",
    "test_df['week_of_year'] = test_df.timestamp.dt.weekofyear\n",
    "\n",
    "# get day of week\n",
    "train_df['day_of_week'] = train_df.timestamp.dt.weekday\n",
    "test_df['day_of_week'] = test_df.timestamp.dt.weekday\n",
    "\n",
    "train_df['timestamp_int'] = train_df.timestamp.astype(int)\n",
    "test_df['timestamp_int'] = test_df.timestamp.astype(int)"
   ]
  },
  {
   "cell_type": "code",
   "execution_count": 36,
   "metadata": {
    "ExecuteTime": {
     "end_time": "2022-10-18T17:14:10.135597Z",
     "start_time": "2022-10-18T17:14:10.123704Z"
    }
   },
   "outputs": [],
   "source": [
    "# get ratio of squares\n",
    "train_df[\"ratio_life_dash_full_sq\"] = train_df[\"life_sq\"] / train_df[\"full_sq\"]\n",
    "train_df[\"ration_kitchen_dash_full_sq\"] = train_df[\"kitch_sq\"] / train_df[\"full_sq\"]\n",
    "test_df[\"ratio_life_dash_full_sq\"] = test_df[\"life_sq\"] / test_df[\"full_sq\"]\n",
    "test_df[\"ration_kitchen_dash_full_sq\"] = test_df[\"kitch_sq\"] / test_df[\"full_sq\"]\n",
    "\n",
    "# age of building\n",
    "train_df['age'] = train_df[\"build_year\"] - train_df['year']\n",
    "test_df['age'] = test_df[\"build_year\"] - test_df['year']\n",
    "\n",
    "# difference between full area and living area\n",
    "train_df['some_extra_sqr_1'] = train_df[\"full_sq\"] - train_df[\"life_sq\"]\n",
    "test_df['some_extra_sqr_1'] = test_df[\"full_sq\"] - test_df[\"life_sq\"]\n",
    "train_df['some_extra_sqr_2'] = train_df[\"full_sq\"] - train_df.life_sq.combine_first(train_df.pred_life_sq)\n",
    "test_df['some_extra_sqr_2'] = test_df[\"full_sq\"] - test_df.life_sq.combine_first(test_df.pred_life_sq)"
   ]
  },
  {
   "cell_type": "code",
   "execution_count": 37,
   "metadata": {
    "ExecuteTime": {
     "end_time": "2022-10-18T17:14:10.139275Z",
     "start_time": "2022-10-18T17:14:10.136922Z"
    }
   },
   "outputs": [],
   "source": [
    "xgb_params = {\n",
    "    'eta': 0.05,\n",
    "    'max_depth': 6,\n",
    "    'subsample': 0.7,\n",
    "    'colsample_bytree': 0.7,\n",
    "    'objective': 'reg:linear',\n",
    "    'eval_metric': 'rmse',\n",
    "    'min_child_weight':1,\n",
    "    'silent': 1,\n",
    "    'seed':0\n",
    "}"
   ]
  },
  {
   "cell_type": "code",
   "execution_count": 38,
   "metadata": {
    "ExecuteTime": {
     "end_time": "2022-10-18T17:14:10.143643Z",
     "start_time": "2022-10-18T17:14:10.141212Z"
    }
   },
   "outputs": [],
   "source": [
    "xgb_params_2 = {\n",
    "    'eta': 0.05,\n",
    "    'max_depth': 4,\n",
    "    'subsample': 0.7,\n",
    "    'colsample_bytree': 0.7,\n",
    "    'objective': 'reg:linear',\n",
    "    'eval_metric': 'rmse',\n",
    "    'min_child_weight':1,\n",
    "    'silent': 1,\n",
    "    'seed':0\n",
    "}"
   ]
  },
  {
   "cell_type": "code",
   "execution_count": 39,
   "metadata": {
    "ExecuteTime": {
     "end_time": "2022-10-18T17:14:10.148007Z",
     "start_time": "2022-10-18T17:14:10.145364Z"
    }
   },
   "outputs": [],
   "source": [
    "xgb_params_3 = {\n",
    "    'eta': 0.05,\n",
    "    'max_depth': 8,\n",
    "    'subsample': 0.7,\n",
    "    'colsample_bytree': 0.7,\n",
    "    'objective': 'reg:linear',\n",
    "    'eval_metric': 'rmse',\n",
    "    'min_child_weight':1,\n",
    "    'silent': 1,\n",
    "    'seed':0\n",
    "}"
   ]
  },
  {
   "cell_type": "code",
   "execution_count": 40,
   "metadata": {
    "ExecuteTime": {
     "end_time": "2022-10-18T17:14:10.215343Z",
     "start_time": "2022-10-18T17:14:10.149861Z"
    }
   },
   "outputs": [],
   "source": [
    "xgb_train = xgb.DMatrix(train_df.drop(['timestamp','price','month_year'], axis=1)\n",
    "                        , train_df['price']\n",
    "                        , feature_names = train_df.drop(['timestamp','price','month_year'], axis=1).columns\n",
    "                        , enable_categorical=True)\n",
    "xgb_test = xgb.DMatrix(test_df.drop(['timestamp'], axis=1)\n",
    "                        , feature_names = test_df.drop(['timestamp'], axis=1).columns\n",
    "                        , enable_categorical=True)"
   ]
  },
  {
   "cell_type": "code",
   "execution_count": 41,
   "metadata": {
    "ExecuteTime": {
     "end_time": "2022-10-18T17:15:19.115086Z",
     "start_time": "2022-10-18T17:14:10.216940Z"
    }
   },
   "outputs": [
    {
     "name": "stdout",
     "output_type": "stream",
     "text": [
      "[20:14:10] WARNING: /Users/runner/work/xgboost/xgboost/src/objective/regression_obj.cu:188: reg:linear is now deprecated in favor of reg:squarederror.\n",
      "[20:14:10] WARNING: /Users/runner/work/xgboost/xgboost/src/learner.cc:576: \n",
      "Parameters: { \"silent\" } might not be used.\n",
      "\n",
      "  This could be a false alarm, with some parameters getting used by language bindings but\n",
      "  then being mistakenly passed down to XGBoost core, or some parameter actually being used\n",
      "  but getting flagged wrongly here. Please open an issue if you find any such cases.\n",
      "\n",
      "\n"
     ]
    }
   ],
   "source": [
    "model = xgb.train(params = xgb_params\n",
    "                  , dtrain = xgb_train\n",
    "                  , num_boost_round = 2000\n",
    "                  , verbose_eval = 10)"
   ]
  },
  {
   "cell_type": "code",
   "execution_count": 42,
   "metadata": {
    "ExecuteTime": {
     "end_time": "2022-10-18T17:15:53.389723Z",
     "start_time": "2022-10-18T17:15:19.116516Z"
    }
   },
   "outputs": [
    {
     "name": "stdout",
     "output_type": "stream",
     "text": [
      "[20:15:19] WARNING: /Users/runner/work/xgboost/xgboost/src/objective/regression_obj.cu:188: reg:linear is now deprecated in favor of reg:squarederror.\n",
      "[20:15:19] WARNING: /Users/runner/work/xgboost/xgboost/src/learner.cc:576: \n",
      "Parameters: { \"silent\" } might not be used.\n",
      "\n",
      "  This could be a false alarm, with some parameters getting used by language bindings but\n",
      "  then being mistakenly passed down to XGBoost core, or some parameter actually being used\n",
      "  but getting flagged wrongly here. Please open an issue if you find any such cases.\n",
      "\n",
      "\n"
     ]
    }
   ],
   "source": [
    "model_2 = xgb.train(params = xgb_params_2\n",
    "                  , dtrain = xgb_train\n",
    "                  , num_boost_round = 2000\n",
    "                  , verbose_eval = 10)"
   ]
  },
  {
   "cell_type": "code",
   "execution_count": 43,
   "metadata": {
    "ExecuteTime": {
     "end_time": "2022-10-18T17:17:27.992346Z",
     "start_time": "2022-10-18T17:15:53.391389Z"
    }
   },
   "outputs": [
    {
     "name": "stdout",
     "output_type": "stream",
     "text": [
      "[20:15:53] WARNING: /Users/runner/work/xgboost/xgboost/src/objective/regression_obj.cu:188: reg:linear is now deprecated in favor of reg:squarederror.\n",
      "[20:15:53] WARNING: /Users/runner/work/xgboost/xgboost/src/learner.cc:576: \n",
      "Parameters: { \"silent\" } might not be used.\n",
      "\n",
      "  This could be a false alarm, with some parameters getting used by language bindings but\n",
      "  then being mistakenly passed down to XGBoost core, or some parameter actually being used\n",
      "  but getting flagged wrongly here. Please open an issue if you find any such cases.\n",
      "\n",
      "\n"
     ]
    }
   ],
   "source": [
    "model_3 = xgb.train(params = xgb_params_3\n",
    "                  , dtrain = xgb_train\n",
    "                  , num_boost_round = 2000\n",
    "                  , verbose_eval = 10)"
   ]
  },
  {
   "cell_type": "code",
   "execution_count": 44,
   "metadata": {
    "ExecuteTime": {
     "end_time": "2022-10-18T17:17:28.017070Z",
     "start_time": "2022-10-18T17:17:27.993688Z"
    }
   },
   "outputs": [],
   "source": [
    "test_df['pred_price'] = model.predict(xgb_test)"
   ]
  },
  {
   "cell_type": "code",
   "execution_count": 45,
   "metadata": {
    "ExecuteTime": {
     "end_time": "2022-10-18T17:17:28.058372Z",
     "start_time": "2022-10-18T17:17:28.037505Z"
    }
   },
   "outputs": [],
   "source": [
    "test_df['pred_price_2'] = model_2.predict(xgb_test)"
   ]
  },
  {
   "cell_type": "code",
   "execution_count": 46,
   "metadata": {
    "ExecuteTime": {
     "end_time": "2022-10-18T17:17:28.096401Z",
     "start_time": "2022-10-18T17:17:28.068179Z"
    }
   },
   "outputs": [],
   "source": [
    "test_df['pred_price_3'] = model_3.predict(xgb_test)"
   ]
  },
  {
   "cell_type": "code",
   "execution_count": 47,
   "metadata": {
    "ExecuteTime": {
     "end_time": "2022-10-18T17:17:28.458140Z",
     "start_time": "2022-10-18T17:17:28.100886Z"
    }
   },
   "outputs": [
    {
     "data": {
      "image/png": "[encoded data removed]",
      "text/plain": [
       "<Figure size 864x576 with 1 Axes>"
      ]
     },
     "metadata": {
      "needs_background": "light"
     },
     "output_type": "display_data"
    }
   ],
   "source": [
    "# Посмотрим еще раз на изменение средних \n",
    "plt.figure(figsize=(12,8))\n",
    "plt.scatter(x='year_month', y='price', data=aggr_1)\n",
    "plt.ylabel('mean_price', fontsize=12)\n",
    "plt.xlabel('year_month', fontsize=12)\n",
    "plt.xticks(rotation='vertical')\n",
    "plt.show()"
   ]
  },
  {
   "cell_type": "code",
   "execution_count": 48,
   "metadata": {
    "ExecuteTime": {
     "end_time": "2022-10-18T17:17:28.557391Z",
     "start_time": "2022-10-18T17:17:28.459828Z"
    }
   },
   "outputs": [],
   "source": [
    "# Поделим время на периоды\n",
    "# 9 периодов взято с потолка однако определение границ периодов шло на основе средних на графике\n",
    "test_df['period_flag'] = 0\n",
    "#1\n",
    "test_df.loc[test_df['timestamp'] < pd.to_datetime('2012-01-01'), 'period_flag'] = 1\n",
    "\n",
    "#2\n",
    "test_df.loc[(test_df['timestamp']>=pd.to_datetime('2012-01-01')) &\n",
    "               (test_df['timestamp'] <pd.to_datetime('2012-06-01')), 'period_flag'] = 2\n",
    "\n",
    "#1\n",
    "test_df.loc[(test_df['timestamp']>=pd.to_datetime('2012-06-01')) &\n",
    "               (test_df['timestamp'] <pd.to_datetime('2013-03-01')), 'period_flag'] = 3\n",
    "\n",
    "#1\n",
    "test_df.loc[(test_df['timestamp']>=pd.to_datetime('2013-03-01')) &\n",
    "               (test_df['timestamp'] <pd.to_datetime('2013-08-01')), 'period_flag'] = 4 \n",
    "\n",
    "#2\n",
    "test_df.loc[(test_df['timestamp']>=pd.to_datetime('2013-08-01')) &\n",
    "               (test_df['timestamp'] <pd.to_datetime('2013-12-01')), 'period_flag'] = 5 \n",
    "#1-2\n",
    "test_df.loc[(test_df['timestamp']>=pd.to_datetime('2013-12-01')) &\n",
    "               (test_df['timestamp'] <pd.to_datetime('2014-05-01')), 'period_flag'] = 6 \n",
    "\n",
    "#2\n",
    "test_df.loc[(test_df['timestamp']>=pd.to_datetime('2014-05-01')) &\n",
    "               (test_df['timestamp'] <pd.to_datetime('2015-03-01')), 'period_flag'] = 7 \n",
    "\n",
    "#1\n",
    "test_df.loc[(test_df['timestamp']>=pd.to_datetime('2015-03-01')), 'period_flag'] = 8\n"
   ]
  },
  {
   "cell_type": "code",
   "execution_count": 49,
   "metadata": {
    "ExecuteTime": {
     "end_time": "2022-10-18T17:17:28.562708Z",
     "start_time": "2022-10-18T17:17:28.558978Z"
    }
   },
   "outputs": [],
   "source": [
    "# Проставим для опеределенных периодов свои predictions\n",
    "# Выбор предиктов можно осуществлять различными способами например с помощью метамодели\n",
    "def good_prediction(row):\n",
    "    pred = 0\n",
    "    map_dict = {\n",
    "        1: row.pred_price,\n",
    "        2: row.pred_price_2,\n",
    "        3: row.pred_price_2,\n",
    "        4: row.pred_price, \n",
    "        5: row.pred_price_2,\n",
    "        6: row.pred_price_2,\n",
    "        7: (row.pred_price +row.pred_price_2)/2,\n",
    "        8: (row.pred_price +row.pred_price_2)/2\n",
    "               }\n",
    "    pred = map_dict[row.period_flag]\n",
    "    return pred"
   ]
  },
  {
   "cell_type": "code",
   "execution_count": 50,
   "metadata": {
    "ExecuteTime": {
     "end_time": "2022-10-18T17:17:28.631008Z",
     "start_time": "2022-10-18T17:17:28.564467Z"
    }
   },
   "outputs": [],
   "source": [
    "test_df['good_pred'] = test_df.apply(lambda x: good_prediction(x), axis=1)"
   ]
  },
  {
   "cell_type": "code",
   "execution_count": 51,
   "metadata": {
    "ExecuteTime": {
     "end_time": "2022-10-18T17:17:28.639794Z",
     "start_time": "2022-10-18T17:17:28.632494Z"
    }
   },
   "outputs": [],
   "source": [
    "test_df[['id', 'good_pred']].rename(columns={'good_pred': 'predicted_price'}).to_csv('good_pred.csv', index=False)"
   ]
  },
  {
   "cell_type": "code",
   "execution_count": null,
   "metadata": {},
   "outputs": [],
   "source": []
  },
  {
   "cell_type": "code",
   "execution_count": 53,
   "metadata": {
    "ExecuteTime": {
     "end_time": "2022-10-18T17:17:38.127060Z",
     "start_time": "2022-10-18T17:17:38.114887Z"
    }
   },
   "outputs": [
    {
     "data": {
      "text/plain": [
       "2207293.210634896"
      ]
     },
     "execution_count": 53,
     "metadata": {},
     "output_type": "execute_result"
    }
   ],
   "source": [
    "# Максимум, который можно выбить за счет грамотного выбора предсказаний из 2-х моделей \n",
    "mean_squared_error(answers.price, answers.ideal_price, squared=False)"
   ]
  }
 ],
 "metadata": {
  "kernelspec": {
   "display_name": "Python 3",
   "language": "python",
   "name": "python3"
  },
  "language_info": {
   "codemirror_mode": {
    "name": "ipython",
    "version": 3
   },
   "file_extension": ".py",
   "mimetype": "text/x-python",
   "name": "python",
   "nbconvert_exporter": "python",
   "pygments_lexer": "ipython3",
   "version": "3.6.8"
  },
  "toc": {
   "base_numbering": 1,
   "nav_menu": {},
   "number_sections": true,
   "sideBar": true,
   "skip_h1_title": false,
   "title_cell": "Table of Contents",
   "title_sidebar": "Contents",
   "toc_cell": false,
   "toc_position": {},
   "toc_section_display": true,
   "toc_window_display": false
  },
  "varInspector": {
   "cols": {
    "lenName": 16,
    "lenType": 16,
    "lenVar": 40
   },
   "kernels_config": {
    "python": {
     "delete_cmd_postfix": "",
     "delete_cmd_prefix": "del ",
     "library": "var_list.py",
     "varRefreshCmd": "print(var_dic_list())"
    },
    "r": {
     "delete_cmd_postfix": ") ",
     "delete_cmd_prefix": "rm(",
     "library": "var_list.r",
     "varRefreshCmd": "cat(var_dic_list()) "
    }
   },
   "types_to_exclude": [
    "module",
    "function",
    "builtin_function_or_method",
    "instance",
    "_Feature"
   ],
   "window_display": false
  }
 },
 "nbformat": 4,
 "nbformat_minor": 4
}
